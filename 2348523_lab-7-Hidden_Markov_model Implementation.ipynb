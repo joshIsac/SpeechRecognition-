{
 "cells": [
  {
   "cell_type": "markdown",
   "metadata": {},
   "source": [
    "Hidden Markov Model Implementation"
   ]
  },
  {
   "cell_type": "markdown",
   "metadata": {},
   "source": [
    "hidden markov model is a statistical model that represents a system that change over time basically used establish a relationship between the sequence of ovbservation and hidden state which consists of States observation and transition probabilities  "
   ]
  },
  {
   "cell_type": "markdown",
   "metadata": {},
   "source": [
    "Initial state distribution: \\(P(s1|s0)=\\pi \\)  \n",
    "\n",
    "\n",
    "State transition probabilities: \\(Ti,j=P(st=j|st-1=i)\\)  \n",
    "\n",
    "\n",
    "Emission probability table: \\(P(xt|st=k,\\theta )\\) \n",
    "\n",
    "\n",
    "Forward algorithm: \\(Ft+1(s)\\equiv P(S(t+1)=s|X(1:t+1)=x(1:t+1))\\)         "
   ]
  },
  {
   "cell_type": "code",
   "execution_count": null,
   "metadata": {},
   "outputs": [],
   "source": [
    "import numpy as np\n",
    "\n",
    "states=['/s/','/p/', '/ie:/', '/tS/']  # Hidden states (phonemes)\n",
    "observations = ['Energy', 'Pitch', 'Duration']  # Observations (acoustic properties)/\n"
   ]
  },
  {
   "cell_type": "code",
   "execution_count": 33,
   "metadata": {},
   "outputs": [],
   "source": [
    "probabilities={'/s/':0.1,'/p/':0.0,'/ie:/':0.0, '/tS/':0.0}\n",
    "transition_probabilities={\n",
    "    '/s/': {'/s/': 0.1, '/p/': 0.8, '/ie:/': 0.1, '/tS/': 0.0},\n",
    "    '/p/': {'/s/': 0.0, '/p/': 0.1, '/ie:/': 0.8, '/tS/': 0.1},\n",
    "    '/ie:/': {'/s/': 0.0, '/p/': 0.0, '/ie:/': 0.2, '/tS/': 0.8},\n",
    "    '/tS/': {'/s/': 0.2, '/p/': 0.0, '/ie:/': 0.0, '/tS/': 0.8}\n",
    "}\n",
    "#emmision probabilites\n",
    "Emission_probability={\n",
    "    '/s/': {'Energy': 0.7, 'Pitch': 0.2, 'Duration': 0.1},\n",
    "    '/p/': {'Energy': 0.5, 'Pitch': 0.3, 'Duration': 0.2},\n",
    "    '/ie:/': {'Energy': 0.3, 'Pitch': 0.5, 'Duration': 0.2},\n",
    "    '/tS/': {'Energy': 0.4, 'Pitch': 0.4, 'Duration': 0.2}\n",
    "}"
   ]
  },
  {
   "cell_type": "code",
   "execution_count": 34,
   "metadata": {},
   "outputs": [
    {
     "name": "stdout",
     "output_type": "stream",
     "text": [
      "Initial Probabilities:\n",
      "/s/: 0.1\n",
      "/p/: 0.0\n",
      "/ie:/: 0.0\n",
      "/tS/: 0.0\n",
      "\n",
      "Transition Probabilities:\n",
      "From/To    /s/    /p/    /ie:/  /tS/  \n",
      "/s/        0.1    0.8    0.1    0.0   \n",
      "/p/        0.0    0.1    0.8    0.1   \n",
      "/ie:/      0.0    0.0    0.2    0.8   \n",
      "/tS/       0.2    0.0    0.0    0.8   \n",
      "\n",
      "Emission Probabilities:\n",
      "Phoneme/Obs Energy   Pitch    Duration\n",
      "/s/        0.7      0.2      0.1     \n",
      "/p/        0.5      0.3      0.2     \n",
      "/ie:/      0.3      0.5      0.2     \n",
      "/tS/       0.4      0.4      0.2     \n"
     ]
    }
   ],
   "source": [
    "def display_hmm_parameters():\n",
    "    print(\"Initial Probabilities:\")\n",
    "    for state, prob in probabilities.items():\n",
    "        print(f\"{state}: {prob}\")\n",
    "    \n",
    "    print(\"\\nTransition Probabilities:\")\n",
    "    print(f\"{'From/To':<10} {' '.join([f'{s:<6}' for s in states])}\")\n",
    "    for from_state, to_probs in transition_probabilities.items():\n",
    "        print(f\"{from_state:<10} {' '.join([f'{to_probs[to_state]:<6.1f}' for to_state in states])}\")\n",
    "    \n",
    "    print(\"\\nEmission Probabilities:\")\n",
    "    print(f\"{'Phoneme/Obs':<10} {' '.join([f'{obs:<8}' for obs in observations])}\")\n",
    "    for state, obs_probs in Emission_probability.items():\n",
    "        print(f\"{state:<10} {' '.join([f'{obs_probs[obs]:<8.1f}' for obs in observations])}\")\n",
    "\n",
    "# Display the HMM parameters\n",
    "display_hmm_parameters()\n"
   ]
  },
  {
   "cell_type": "code",
   "execution_count": 45,
   "metadata": {},
   "outputs": [
    {
     "name": "stdout",
     "output_type": "stream",
     "text": [
      "\n",
      "Generated Phoneme Sequence: ['/s/', '/p/', '/ie:/', '/tS/']\n",
      "Generated Acoustic Observations: ['Pitch', 'Energy', 'Energy']\n"
     ]
    }
   ],
   "source": [
    "def generate_sequence(n=4):\n",
    "    sequence = []\n",
    "    observations_sequence = []\n",
    "    \n",
    "    # Start with the initial state\n",
    "    current_state = '/s/'\n",
    "    sequence.append(current_state)\n",
    "    \n",
    "    for _ in range(n - 1):  # Generate n-1 phonemes\n",
    "        # Transition to the next state based on transition probabilities\n",
    "        next_state = np.random.choice(states, p=[transition_probabilities[current_state][s] for s in states])\n",
    "        sequence.append(next_state)\n",
    "        current_state = next_state\n",
    "    \n",
    "        # Emit an observation based on emission probabilities\n",
    "        emitted_obs = np.random.choice(observations, p=[Emission_probability[current_state][obs] for obs in observations])\n",
    "        observations_sequence.append(emitted_obs)\n",
    "    \n",
    "    return sequence, observations_sequence\n",
    "\n",
    "phoneme_sequence, acoustic_observations = generate_sequence()\n",
    "print(\"\\nGenerated Phoneme Sequence:\", phoneme_sequence)\n",
    "print(\"Generated Acoustic Observations:\", acoustic_observations)\n"
   ]
  },
  {
   "cell_type": "markdown",
   "metadata": {},
   "source": [
    "Inference \n",
    "the initial word starts from the phoneme /s/ which has the probability of 1 \n",
    "Transition Probabilities:\n",
    "The transition probabilities model the progression through the phonemes in a likely sequence for \"speech.\" For instance, it is highly likely to transition from /s/ to /p/ (0.8) and from /ie:/ to /tS/ (0.8), reflecting the natural phoneme transitions.\n",
    "Emission Probabilities:\n",
    "The emission probabilities map phonemes to their acoustic features. For example, /s/ has a higher likelihood of emitting \"Energy\" compared to \"Duration.\"\n",
    "Generated Sequence:\n",
    "The generated sequences simulate realistic phoneme transitions and acoustic properties. Repeated runs will generate slightly varied outputs due to the probabilistic nature of the HMM."
   ]
  },
  {
   "cell_type": "code",
   "execution_count": null,
   "metadata": {},
   "outputs": [],
   "source": []
  }
 ],
 "metadata": {
  "kernelspec": {
   "display_name": "Python 3",
   "language": "python",
   "name": "python3"
  },
  "language_info": {
   "codemirror_mode": {
    "name": "ipython",
    "version": 3
   },
   "file_extension": ".py",
   "mimetype": "text/x-python",
   "name": "python",
   "nbconvert_exporter": "python",
   "pygments_lexer": "ipython3",
   "version": "3.11.8"
  }
 },
 "nbformat": 4,
 "nbformat_minor": 2
}
